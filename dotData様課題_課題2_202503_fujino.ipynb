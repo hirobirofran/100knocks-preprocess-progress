{
  "nbformat": 4,
  "nbformat_minor": 0,
  "metadata": {
    "colab": {
      "provenance": [],
      "authorship_tag": "ABX9TyPgltwkKXGZVWpDwZmUXmc/",
      "include_colab_link": true
    },
    "kernelspec": {
      "name": "python3",
      "display_name": "Python 3"
    },
    "language_info": {
      "name": "python"
    }
  },
  "cells": [
    {
      "cell_type": "markdown",
      "metadata": {
        "id": "view-in-github",
        "colab_type": "text"
      },
      "source": [
        "<a href=\"https://colab.research.google.com/github/hirobirofran/100knocks-preprocess-progress/blob/main/dotData%E6%A7%98%E8%AA%B2%E9%A1%8C_%E8%AA%B2%E9%A1%8C2_202503_fujino.ipynb\" target=\"_parent\"><img src=\"https://colab.research.google.com/assets/colab-badge.svg\" alt=\"Open In Colab\"/></a>"
      ]
    },
    {
      "cell_type": "markdown",
      "source": [
        "# 課題2. 顧客データから分析用データを作成するためのデータ変換パイプライン"
      ],
      "metadata": {
        "id": "HGwETE6WhUcU"
      }
    },
    {
      "cell_type": "markdown",
      "source": [
        "## よく使うライブラリ"
      ],
      "metadata": {
        "id": "9p7Obc2l-zZ6"
      }
    },
    {
      "cell_type": "code",
      "source": [
        "import os\n",
        "import pandas as pd\n",
        "import time\n",
        "import psutil"
      ],
      "metadata": {
        "id": "2J1f2c8GnAFD"
      },
      "execution_count": 25,
      "outputs": []
    },
    {
      "cell_type": "markdown",
      "source": [
        "## 定義値"
      ],
      "metadata": {
        "id": "mkLOr4gh-vE1"
      }
    },
    {
      "cell_type": "code",
      "source": [
        "# 定義値は必要に応じて変更して利用する\n",
        "\n",
        "# 入力ファイル定義\n",
        "INPUT_BASE_PATH: str = '/content/workspace/orig_data'\n",
        "INPUT_SALES_FILE_NAME: str = 'cleaned_sales_data.csv'\n",
        "INPUT_VENDOR_FILE_NAME: str = 'cleaned_vendor_data.csv'\n",
        "INPUT_STORE_FILE_NAME: str = 'cleaned_store_data.csv'\n",
        "\n",
        "# 出力ファイル定義\n",
        "OUTPUT_BASE_PATH: str = '/content/workspace/analytic_data'\n",
        "OUTPUT_SALES_FILE_NAME: str = 'sales_history.sql'\n",
        "OUTPUT_VENDOR_FILE_NAME: str = 'vendor_master.sql'\n",
        "OUTPUT_STORE_FILE_NAME: str = 'store_master.sql'\n",
        "OUTPUT_SALES_GROWTH_FILE_NAME: str = 'sales_growth.sql'\n",
        "\n",
        "# DB定義\n",
        "SQLITE3_DB_FILENAME: str = 'sales_analysis.db'\n",
        "SALES_TABLE_NAME: str = 'sales_history'\n",
        "VENDOR_TABLE_NAME: str = 'vendors_master'\n",
        "STORE_TABLE_NAME: str = 'stores_master'\n",
        "SALES_GROWTH_TABLE_NAME: str = 'sales_growth'\n",
        "\n",
        "# カラム定義\n",
        "SALES_COLUMNS_STORE_STANDARDIZED_SALE: str = \"Store_Standardized_Sale\"\n",
        "SALES_COLUMNS_CATEGORY_STANDARFIZED_SALE: str = \"Category_Standardized_Sale\"\n",
        "SALES_COLUMNS = [\n",
        "    \"Date\", \"Store Number\", \"Category\", \"Category Name\",\n",
        "    \"Vendor Number\", \"Item Number\", \"Item Description\",\n",
        "    \"Bottle Volume (ml)\", \"Bottles Sold\", \"Volume Sold (Liters)\",\n",
        "    \"Volume Sold (Gallons)\", \"Sale (Dollars)\",\n",
        "    SALES_COLUMNS_STORE_STANDARDIZED_SALE,\n",
        "    SALES_COLUMNS_CATEGORY_STANDARFIZED_SALE\n",
        "]\n",
        "VENDOR_COLUMNS = [\"Vendor Number\", \"Vendor Name\"]\n",
        "STORE_COLUMNS = [\"Store Number\", \"Store Name\", \"Address\", \"Zip Code\", \"County Number\", \"County\"]\n",
        "SALES_GROWTH_COLUMNS = [\"Store Number\", \"Category\", \"Date\", \"Daily_Sale\", \"Growth_Flag\"]\n",
        "\n",
        "# テーブル定義\n",
        "SALES_TABLE_DEFINITION = f\"\"\"\n",
        "-- 販売履歴\n",
        "CREATE TABLE IF NOT EXISTS sales_history (\n",
        "    \"Date\" DATE,                      -- 取引日（期間: 2020年11月から2024年10月）\n",
        "    \"Store Number\" INT,               -- 店舗識別ID\n",
        "    \"Category\" INT,                   -- 商品カテゴリ識別番号\n",
        "    \"Category Name\" TEXT,             -- 商品カテゴリ名（例: Vodka, Whiskeyなど）\n",
        "    \"Vendor Number\" INT,              -- ベンダー識別ID\n",
        "    \"Item Number\" INT,                -- 商品識別ID\n",
        "    \"Item Description\" TEXT,          -- 商品の説明（例: ブランド名や商品名）\n",
        "    \"Bottle Volume (ml)\" INT,         -- ボトル1本あたりの容量（ミリリットル）\n",
        "    \"Bottles Sold\" INT,               -- 取引で販売されたボトルの本数\n",
        "    \"Volume Sold (Liters)\" DOUBLE,    -- 取引で販売された酒類の総容量（リットル）\n",
        "    \"Volume Sold (Gallons)\" DOUBLE,   -- 取引で販売された酒類の総容量（ガロン）\n",
        "    \"Sale (Dollars)\" DOUBLE,          -- 売上金額（ドル）\n",
        "    {SALES_COLUMNS_STORE_STANDARDIZED_SALE} DOUBLE,\n",
        "                                      -- 店舗ごとの平均値で標準化した売上金額\n",
        "    {SALES_COLUMNS_CATEGORY_STANDARFIZED_SALE} DOUBLE\n",
        "                                      -- 商品カテゴリごとの平均値で標準化した売上金額\n",
        ");\n",
        "\"\"\"\n",
        "VENDOR_TABLE_DEFINITION = \"\"\"\n",
        "-- ベンダーマスタ\n",
        "CREATE TABLE IF NOT EXISTS vendors_master (\n",
        "    \"Vendor Number\" INT,  -- ベンダー識別ID\n",
        "    \"Vendor Name\" TEXT,   -- ベンダー名前（商品供給元の企業やブランド名）\n",
        "    PRIMARY KEY (\"Vendor Number\")\n",
        ");\n",
        "\"\"\"\n",
        "\n",
        "STORE_TABLE_DEFINITION = \"\"\"\n",
        "-- 店舗マスタ\n",
        "CREATE TABLE IF NOT EXISTS stores_master (\n",
        "    \"Store Number\" INT,   -- 店舗識別ID\n",
        "    \"Store Name\" TEXT,    -- 店舗名\n",
        "    \"Address\" TEXT,       -- 店舗の所在地住所\n",
        "    \"Zip Code\" INT,       -- 店舗の郵便番号\n",
        "    \"County Number\" INT,  -- 店舗が所在する郡（County）の識別ID\n",
        "    \"County\" TEXT,        -- 店舗が所在する郡（County）の名前\n",
        "    PRIMARY KEY (\"Store Number\")\n",
        ");\n",
        "\"\"\"\n",
        "\n",
        "SALES_GROWTH_TABLE_DEFINITION = \"\"\"\n",
        "-- 売上成長\n",
        "CREATE TABLE IF NOT EXISTS sales_growth (\n",
        "    \"Store Number\" INT,   -- 店舗識別ID\n",
        "    \"Category\" INT,       -- 商品カテゴリ識別番号\n",
        "    \"Date\" DATE,          -- 取引日（YYYY-MM-DD）\n",
        "    \"Daily_Sale\" DOUBLE,  -- 日次売上金額（ドル）\n",
        "    \"Growth_Flag\" INT,    -- １週間前と比較して10％以上売上が増加していたら1、そうでなければ0\n",
        "    PRIMARY KEY (\"Store Number\", \"Category\", \"Date\")\n",
        ");\n",
        "\"\"\""
      ],
      "metadata": {
        "id": "pLO33iAwmzGF"
      },
      "execution_count": 26,
      "outputs": []
    },
    {
      "cell_type": "markdown",
      "source": [
        "## データの読み込み"
      ],
      "metadata": {
        "id": "g5iLSpCZ-rwE"
      }
    },
    {
      "cell_type": "code",
      "source": [
        "def load_input_data(\n",
        "    input_base_path: str,\n",
        "    sales_file_name: str,\n",
        "    vendor_file_name: str,\n",
        "    store_file_name: str\n",
        "    ) -> str:\n",
        "    \"\"\"\n",
        "    データ読み込み\n",
        "\n",
        "    Args:\n",
        "        input_base_path (str): クリーニング済み入力ファイルのパス\n",
        "        sales_file_name (str): 販売履歴データファイル名\n",
        "        vendor_file_name (str): ベンダーマスタファイル名\n",
        "        store_file_name (str): 店舗マスタファイル名\n",
        "\n",
        "    Returns:\n",
        "        sales_data (pd.DataFrame): 販売履歴データ\n",
        "        vendor_data (pd.DataFrame): ベンダーデータ\n",
        "        store_data (pd.DataFrame): 店舗データ\n",
        "    \"\"\"\n",
        "\n",
        "    sales_data = pd.read_csv(os.path.join(input_base_path, sales_file_name))\n",
        "    vendor_data = pd.read_csv(os.path.join(input_base_path, vendor_file_name))\n",
        "    store_data = pd.read_csv(os.path.join(input_base_path, store_file_name))\n",
        "    return sales_data, vendor_data, store_data"
      ],
      "metadata": {
        "id": "EjmD6Or7kGQj"
      },
      "execution_count": 27,
      "outputs": []
    },
    {
      "cell_type": "markdown",
      "source": [
        "## 販売履歴に分析用カラムを追加"
      ],
      "metadata": {
        "id": "QZ95v8VtC9jx"
      }
    },
    {
      "cell_type": "code",
      "source": [
        "def add_store_standardized_sales(data: pd.DataFrame) -> pd.DataFrame:\n",
        "    \"\"\"\n",
        "    店舗ごとの平均値で標準化した売上金額を追加\n",
        "\n",
        "    Args:\n",
        "        data (pd.DataFrame): 販売履歴データ\n",
        "\n",
        "    Returns:\n",
        "        pd.DataFrame: 店舗ごとの標準化カラムを追加したデータ\n",
        "    \"\"\"\n",
        "    store_avg = data.groupby('Store Number')['Sale (Dollars)'].transform('mean')\n",
        "    data[SALES_COLUMNS_STORE_STANDARDIZED_SALE] = data['Sale (Dollars)'] / store_avg\n",
        "    return data\n",
        "\n",
        "def add_category_standardized_sales(data: pd.DataFrame) -> pd.DataFrame:\n",
        "    \"\"\"\n",
        "    商品カテゴリごとの平均値で標準化した売上金額を追加\n",
        "\n",
        "    Args:\n",
        "        data (pd.DataFrame): 販売履歴データ\n",
        "\n",
        "    Returns:\n",
        "        pd.DataFrame: 商品カテゴリごとの標準化カラムを追加したデータ\n",
        "    \"\"\"\n",
        "    category_avg = data.groupby('Category')['Sale (Dollars)'].transform('mean')\n",
        "    data[SALES_COLUMNS_CATEGORY_STANDARFIZED_SALE] = data['Sale (Dollars)'] / category_avg\n",
        "    return data\n",
        "\n",
        "def process_sales_data(sales_data: pd.DataFrame) -> pd.DataFrame:\n",
        "    \"\"\"\n",
        "    販売履歴データを読み込み、標準化したカラムを追加して保存\n",
        "\n",
        "    Args:\n",
        "        sales_data (pd.DataFrame): 販売履歴データ\n",
        "\n",
        "    Returns:\n",
        "        pd.DataFrame: 標準化したカラムを追加したデータフレーム\n",
        "    \"\"\"\n",
        "    # 店舗ごとの標準化カラムを追加\n",
        "    sales_data = add_store_standardized_sales(sales_data)\n",
        "\n",
        "    # 商品カテゴリごとの標準化カラムを追加\n",
        "    sales_data = add_category_standardized_sales(sales_data)\n",
        "\n",
        "    return sales_data"
      ],
      "metadata": {
        "id": "jANfZCRpDBIA"
      },
      "execution_count": 28,
      "outputs": []
    },
    {
      "cell_type": "markdown",
      "source": [
        "## 「売上成長」作成"
      ],
      "metadata": {
        "id": "GElaAxlr-_pS"
      }
    },
    {
      "cell_type": "code",
      "source": [
        "def calculate_daily_sales(data: pd.DataFrame) -> pd.DataFrame:\n",
        "    \"\"\"\n",
        "    日次売上を計算\n",
        "\n",
        "    Args:\n",
        "        data (pd.DataFrame): 販売履歴データ\n",
        "\n",
        "    Returns:\n",
        "        pd.DataFrame: 日次売上を計算したデータフレーム\n",
        "    \"\"\"\n",
        "    daily_sales = data.groupby(['Store Number', 'Category', 'Date'])['Sale (Dollars)'].sum().reset_index()\n",
        "    daily_sales.rename(columns={'Sale (Dollars)': 'Daily_Sale'}, inplace=True)\n",
        "    return daily_sales\n",
        "\n",
        "def add_growth_flag(data: pd.DataFrame) -> pd.DataFrame:\n",
        "    \"\"\"\n",
        "    1週間前の売上と比較して成長フラグを追加\n",
        "\n",
        "    Args:\n",
        "        data (pd.DataFrame): 日次売上データ\n",
        "\n",
        "    Returns:\n",
        "        pd.DataFrame: 成長フラグを追加したデータフレーム\n",
        "    \"\"\"\n",
        "    data['Previous_Week_Sale'] = data.groupby(['Store Number', 'Category'])['Daily_Sale'].shift(7)\n",
        "    data['Growth_Flag'] = (data['Daily_Sale'] > data['Previous_Week_Sale'] * 1.1).astype(int)\n",
        "    data.drop(columns=['Previous_Week_Sale'], inplace=True)\n",
        "    return data\n",
        "\n",
        "def process_sales_growth(sales_data: pd.DataFrame) -> pd.DataFrame:\n",
        "    \"\"\"\n",
        "    売上成長データを生成\n",
        "\n",
        "    Args:\n",
        "        sales_data (pd.DataFrame): 販売履歴データ\n",
        "\n",
        "    Returns:\n",
        "        pd.DataFrame: 売上成長データ\n",
        "    \"\"\"\n",
        "\n",
        "    # 日次売上の計算\n",
        "    daily_sales = calculate_daily_sales(sales_data)\n",
        "\n",
        "    # 成長フラグの追加\n",
        "    sales_growth_data = add_growth_flag(daily_sales)\n",
        "\n",
        "    print(\"売上成長データの生成が完了しました\")\n",
        "    return sales_growth_data"
      ],
      "metadata": {
        "id": "ra8HXHl7_CA2"
      },
      "execution_count": 29,
      "outputs": []
    },
    {
      "cell_type": "markdown",
      "source": [
        "## カラムが定義通りかをチェック"
      ],
      "metadata": {
        "id": "gE-6IJl_KztG"
      }
    },
    {
      "cell_type": "code",
      "source": [
        "def validate_columns(data: pd.DataFrame, expected_columns: list, table_name: str) -> None:\n",
        "    \"\"\"\n",
        "    データフレームのカラム構成が期待通りか検証する。\n",
        "\n",
        "    Args:\n",
        "        data (pd.DataFrame): データフレーム\n",
        "        expected_columns (list): 期待されるカラム名のリスト\n",
        "        table_name (str): テーブル名（検証対象）\n",
        "\n",
        "    Raises:\n",
        "        ValueError: カラムが期待値と一致しない場合\n",
        "    \"\"\"\n",
        "    if not all(col in data.columns for col in expected_columns):\n",
        "        raise ValueError(f'{table_name}のカラムが仕様と一致しません。')\n",
        "\n",
        "\n",
        "    print(f'{table_name}のカラムチェックが完了しました')\n"
      ],
      "metadata": {
        "id": "dM3_tZ6BK4ju"
      },
      "execution_count": 30,
      "outputs": []
    },
    {
      "cell_type": "markdown",
      "source": [
        "## 分析用データの出力"
      ],
      "metadata": {
        "id": "q7XSoBJcjC25"
      }
    },
    {
      "cell_type": "code",
      "source": [
        "import sqlite3\n",
        "\n",
        "def create_tables_with_constraints(conn: sqlite3.Connection) -> None:\n",
        "    \"\"\"\n",
        "    SQLiteに制約付きのテーブルを作成する。\n",
        "\n",
        "    Args:\n",
        "        conn (sqlite3.Connection): SQLiteデータベース接続オブジェクト。\n",
        "    \"\"\"\n",
        "    cursor = conn.cursor()\n",
        "\n",
        "    # sales_historyテーブルの作成\n",
        "    cursor.execute(SALES_TABLE_DEFINITION)\n",
        "\n",
        "    # vendors_masterテーブルの作成\n",
        "    cursor.execute(VENDOR_TABLE_DEFINITION)\n",
        "\n",
        "    # stores_masterテーブルの作成\n",
        "    cursor.execute(STORE_TABLE_DEFINITION)\n",
        "\n",
        "    # sales_growthテーブルの作成\n",
        "    cursor.execute(SALES_GROWTH_TABLE_DEFINITION)\n",
        "\n",
        "    conn.commit()\n",
        "\n",
        "def insert_data_into_tables(\n",
        "    conn: sqlite3.Connection,\n",
        "    sales_data: pd.DataFrame,\n",
        "    vendor_data: pd.DataFrame,\n",
        "    store_data: pd.DataFrame,\n",
        "    sales_growth_data: pd.DataFrame\n",
        "    ) -> None:\n",
        "    \"\"\"\n",
        "    データフレームから制約付きテーブルにデータを挿入。\n",
        "\n",
        "    Args:\n",
        "        conn (sqlite3.Connection): SQLiteデータベース接続オブジェクト。\n",
        "        sales_data (pd.DataFrame): 販売履歴データ。\n",
        "        vendor_data (pd.DataFrame): ベンダーデータ。\n",
        "        store_data (pd.DataFrame): 店舗データ。\n",
        "        sales_growth_data (pd.DataFrame): 売上成長データ。\n",
        "    \"\"\"\n",
        "    sales_data.to_sql(SALES_TABLE_NAME, conn, if_exists=\"replace\", index=False)\n",
        "    vendor_data.to_sql(VENDOR_TABLE_NAME, conn, if_exists=\"replace\", index=False)\n",
        "    store_data.to_sql(STORE_TABLE_NAME, conn, if_exists=\"replace\", index=False)\n",
        "    sales_growth_data.to_sql(\n",
        "        SALES_GROWTH_TABLE_NAME, conn, if_exists=\"replace\", index=False)\n",
        "\n",
        "def save_data(\n",
        "    sales_data: pd.DataFrame,\n",
        "    vendor_data: pd.DataFrame,\n",
        "    store_data: pd.DataFrame,\n",
        "    sales_growth_data: pd.DataFrame,\n",
        "    ) -> None:\n",
        "    \"\"\"\n",
        "    データ保存\n",
        "\n",
        "    Args:\n",
        "        sales_data: pd.DataFrame      : 販売履歴データ\n",
        "        vendor_data: pd.DataFrame     : ベンダーデータ\n",
        "        store_data: pd.DataFrame      : 店舗データ\n",
        "        sales_growth_data: pd.DataFrame: 売上成長データ\n",
        "\n",
        "    Returns:\n",
        "        None\n",
        "    \"\"\"\n",
        "    with sqlite3.connect(SQLITE3_DB_FILENAME) as conn:\n",
        "        # 制約付きテーブルの作成\n",
        "        create_tables_with_constraints(conn)\n",
        "\n",
        "        # データの挿入\n",
        "        insert_data_into_tables(\n",
        "            conn, sales_data, vendor_data, store_data, sales_growth_data)\n",
        "\n",
        "    print(\"データが制約付きのSQLiteテーブルに保存されました。\")\n",
        "\n",
        "def get_table_dump(conn: sqlite3.Connection, table_name: str) -> list:\n",
        "    \"\"\"\n",
        "    指定されたテーブルのSQLダンプを取得。\n",
        "\n",
        "    Args:\n",
        "        conn (sqlite3.Connection): SQLiteデータベース接続。\n",
        "        table_name (str): テーブル名。\n",
        "\n",
        "    Returns:\n",
        "        list: テーブル関連のSQLコマンド一覧。\n",
        "    \"\"\"\n",
        "    dump_lines = []\n",
        "    for line in conn.iterdump():\n",
        "        if f'CREATE TABLE \"{table_name}\"' in line or f'INSERT INTO \"{table_name}\"' in line:\n",
        "            dump_lines.append(line)\n",
        "    return dump_lines\n",
        "\n",
        "def save_dump_to_file(\n",
        "    dump_lines: list,\n",
        "    output_file: str) -> None:\n",
        "    \"\"\"\n",
        "    SQLダンプを指定されたファイルに保存。\n",
        "\n",
        "    Args:\n",
        "        dump_lines (list): SQLダンプのリスト。\n",
        "        output_file (str): 出力ファイルパス。\n",
        "\n",
        "    Returns:\n",
        "        None\n",
        "    \"\"\"\n",
        "    with open(output_file, \"w\") as f:\n",
        "        for line in dump_lines:\n",
        "            f.write(f\"{line}\\n\")\n",
        "\n",
        "def export_table_to_sql_file(\n",
        "    table_name: str,\n",
        "    output_base_path: str,\n",
        "    output_file: str) -> None:\n",
        "    \"\"\"\n",
        "    テーブルごとにSQLファイルをエクスポート。\n",
        "\n",
        "    Args:\n",
        "        table_name (str): テーブル名。\n",
        "        output_base_path (str): 出力ファイルのベースパス。\n",
        "        output_file (str): 出力ファイル名。\n",
        "\n",
        "    Returns:\n",
        "        None\n",
        "    \"\"\"\n",
        "    with sqlite3.connect(SQLITE3_DB_FILENAME) as conn:\n",
        "        dump_lines = get_table_dump(conn, table_name)\n",
        "        save_dump_to_file(dump_lines, os.path.join(output_base_path, output_file))\n",
        "\n",
        "    print(f\"Exported table {table_name} to {output_file}\")"
      ],
      "metadata": {
        "id": "nsVYrqQxoMaz"
      },
      "execution_count": 31,
      "outputs": []
    },
    {
      "cell_type": "markdown",
      "source": [
        "## 測定用"
      ],
      "metadata": {
        "id": "sGp6rsfoTrga"
      }
    },
    {
      "cell_type": "code",
      "source": [
        "# メモリ使用量を測定\n",
        "def memory_usage():\n",
        "    \"\"\"\n",
        "    現在のプロセスのメモリ使用量を取得。\n",
        "\n",
        "    Returns:\n",
        "        float: メモリ使用量（MB単位）。\n",
        "    \"\"\"\n",
        "    process = psutil.Process(os.getpid())\n",
        "    return process.memory_info().rss / 1024 ** 2"
      ],
      "metadata": {
        "id": "_BAZ9DRtTtb6"
      },
      "execution_count": 32,
      "outputs": []
    },
    {
      "cell_type": "markdown",
      "source": [
        "## 実行フロー"
      ],
      "metadata": {
        "id": "PSqMwuujkVWD"
      }
    },
    {
      "cell_type": "code",
      "source": [
        "# 計測用\n",
        "start_time = time.time()\n",
        "start_memory = memory_usage()\n",
        "\n",
        "# 顧客データ（課題1でクリーニング済み）の読み込み\n",
        "sales_data, vendor_data, store_data = load_input_data(\n",
        "    INPUT_BASE_PATH,\n",
        "    INPUT_SALES_FILE_NAME, INPUT_VENDOR_FILE_NAME, INPUT_STORE_FILE_NAME)\n",
        "\n",
        "# 販売履歴に分析用カラムを追加する\n",
        "sales_data = process_sales_data(sales_data)\n",
        "\n",
        "# 売上成長を作成\n",
        "sales_growth_data = process_sales_growth(sales_data)\n",
        "\n",
        "# 出力前に各テーブルのカラム名が定義通りかチェック\n",
        "validate_columns(sales_data, SALES_COLUMNS, '販売履歴')\n",
        "validate_columns(vendor_data, VENDOR_COLUMNS, 'ベンダーマスター')\n",
        "validate_columns(store_data, STORE_COLUMNS, '店舗マスタ')\n",
        "validate_columns(sales_growth_data, SALES_GROWTH_COLUMNS, '売上成長')\n",
        "\n",
        "# 分析用データを出力\n",
        "save_data(sales_data, vendor_data, store_data, sales_growth_data)\n",
        "export_table_to_sql_file(\n",
        "    SALES_TABLE_NAME, OUTPUT_BASE_PATH, OUTPUT_SALES_FILE_NAME)\n",
        "export_table_to_sql_file(\n",
        "    VENDOR_TABLE_NAME, OUTPUT_BASE_PATH, OUTPUT_VENDOR_FILE_NAME)\n",
        "export_table_to_sql_file(\n",
        "    STORE_TABLE_NAME, OUTPUT_BASE_PATH, OUTPUT_STORE_FILE_NAME)\n",
        "export_table_to_sql_file(\n",
        "    SALES_GROWTH_TABLE_NAME, OUTPUT_BASE_PATH, OUTPUT_SALES_GROWTH_FILE_NAME)\n",
        "\n",
        "end_time = time.time()\n",
        "end_memory = memory_usage()\n",
        "print(f'Processing Time (s): {end_time - start_time}')\n",
        "print(f'Memory Usage (MB): {end_memory - start_memory}')"
      ],
      "metadata": {
        "colab": {
          "base_uri": "https://localhost:8080/"
        },
        "id": "r0-7ddWnkNXg",
        "outputId": "6dfa4e8e-4fc5-4bfc-9537-13fa43371eb6"
      },
      "execution_count": 33,
      "outputs": [
        {
          "output_type": "stream",
          "name": "stdout",
          "text": [
            "売上成長データの生成が完了しました\n",
            "販売履歴のカラムチェックが完了しました\n",
            "ベンダーマスターのカラムチェックが完了しました\n",
            "店舗マスタのカラムチェックが完了しました\n",
            "売上成長のカラムチェックが完了しました\n",
            "データが制約付きのSQLiteテーブルに保存されました。\n",
            "Exported table sales_history to sales_history.sql\n",
            "Exported table vendors_master to vendor_master.sql\n",
            "Exported table stores_master to store_master.sql\n",
            "Exported table sales_growth to sales_growth.sql\n",
            "Processing Time (s): 17.50941014289856\n",
            "Memory Usage (MB): 10.25\n"
          ]
        }
      ]
    },
    {
      "cell_type": "markdown",
      "source": [
        "# 処理シミュレーション計測"
      ],
      "metadata": {
        "id": "221mOSMVN8cF"
      }
    },
    {
      "cell_type": "code",
      "source": [
        "\n",
        "# 処理を重ねるためにデータを拡張（データ量を増加させる）\n",
        "def expand_data(data, multiplier):\n",
        "    \"\"\"\n",
        "    データを指定倍に拡張する。\n",
        "\n",
        "    Args:\n",
        "        data (pd.DataFrame): 元データ。\n",
        "        multiplier (int): 拡張する倍率。\n",
        "\n",
        "    Returns:\n",
        "        pd.DataFrame: 拡張後のデータフレーム。\n",
        "    \"\"\"\n",
        "    return pd.concat([data] * multiplier, ignore_index=True)\n",
        "\n",
        "# パイプライン処理のシミュレーション\n",
        "def process_pipeline(data):\n",
        "    \"\"\"\n",
        "    パイプラインのシミュレーション処理を行う。\n",
        "\n",
        "    Args:\n",
        "        data (pd.DataFrame): 入力データ。\n",
        "\n",
        "    Returns:\n",
        "        pd.DataFrame: 処理済みデータフレーム。\n",
        "    \"\"\"\n",
        "    # 店舗ごとの平均値で標準化\n",
        "    data['Store_Standardized_Sale'] = data['Sale (Dollars)'] / data.groupby('Store Number')['Sale (Dollars)'].transform('mean')\n",
        "    # 商品カテゴリごとの平均値で標準化\n",
        "    data['Category_Standardized_Sale'] = data['Sale (Dollars)'] / data.groupby('Category')['Sale (Dollars)'].transform('mean')\n",
        "    return data\n",
        "\n",
        "# 顧客データ（課題1でクリーニング済み）の読み込み\n",
        "sales_data, vendor_data, store_data = load_input_data(\n",
        "    INPUT_BASE_PATH,\n",
        "    INPUT_SALES_FILE_NAME, INPUT_VENDOR_FILE_NAME, INPUT_STORE_FILE_NAME)\n",
        "\n",
        "# データ規模と処理時間を計測\n",
        "results = []\n",
        "multipliers = [1, 10, 50, 100, 150]  # データ拡張倍率（Colabだと200でクラッシュ）\n",
        "\n",
        "for multiplier in multipliers:\n",
        "    print(f\"元データの行数: {len(sales_data)}\")\n",
        "    #print(f\"元データのプレビュー:\\n{sales_data.head()}\")\n",
        "    test_data = expand_data(sales_data, multiplier)\n",
        "    print(f\"テストデータの行数: {len(test_data)}\")\n",
        "    #print(f\"テストデータのプレビュー:\\n{test_data.head()}\")\n",
        "    start_time = time.time()\n",
        "    start_memory = memory_usage()\n",
        "\n",
        "    # パイプライン処理\n",
        "    processed_data = process_pipeline(test_data)\n",
        "\n",
        "    end_time = time.time()\n",
        "    end_memory = memory_usage()\n",
        "\n",
        "    results.append({\n",
        "        'multiplier': multiplier,\n",
        "        'Rows': len(test_data),\n",
        "        'Processing Time (s)': end_time - start_time,\n",
        "        'Memory Usage (MB)': end_memory - start_memory\n",
        "    })\n",
        "\n",
        "# 結果を表示\n",
        "results_df = pd.DataFrame(results)\n",
        "print(results_df)\n",
        "\n",
        "import matplotlib.pyplot as plt\n",
        "# グラフ描画\n",
        "fig, ax1 = plt.subplots(figsize=(10, 6))\n",
        "\n",
        "# 処理時間グラフ\n",
        "ax1.set_xlabel(\"Rows (Number of Records)\")\n",
        "ax1.set_ylabel(\"Processing Time (s)\", color=\"blue\")\n",
        "ax1.plot(results_df[\"Rows\"], results_df[\"Processing Time (s)\"], color=\"blue\", marker=\"o\", label=\"Processing Time\")\n",
        "ax1.tick_params(axis=\"y\", labelcolor=\"blue\")\n",
        "ax1.legend(loc=\"upper left\")\n",
        "\n",
        "# メモリ使用量グラフ\n",
        "ax2 = ax1.twinx()  # 同じX軸を共有\n",
        "ax2.set_ylabel(\"Memory Usage (MB)\", color=\"green\")\n",
        "ax2.plot(results_df[\"Rows\"], results_df[\"Memory Usage (MB)\"], color=\"green\", marker=\"x\", label=\"Memory Usage\")\n",
        "ax2.tick_params(axis=\"y\", labelcolor=\"green\")\n",
        "ax2.legend(loc=\"upper right\")\n",
        "\n",
        "# グラフタイトルとレイアウト\n",
        "plt.title(\"Pipeline Performance Analysis\")\n",
        "plt.grid(True)\n",
        "plt.tight_layout()\n",
        "plt.show()"
      ],
      "metadata": {
        "colab": {
          "base_uri": "https://localhost:8080/",
          "height": 856
        },
        "id": "sAKbJf8AOE_P",
        "outputId": "c54dcc90-404e-4959-aaa8-fdfe9795ef18"
      },
      "execution_count": 5,
      "outputs": [
        {
          "output_type": "stream",
          "name": "stdout",
          "text": [
            "元データの行数: 288737\n",
            "テストデータの行数: 288737\n",
            "元データの行数: 288737\n",
            "テストデータの行数: 2887370\n",
            "元データの行数: 288737\n",
            "テストデータの行数: 14436850\n",
            "元データの行数: 288737\n",
            "テストデータの行数: 28873700\n",
            "元データの行数: 288737\n",
            "テストデータの行数: 43310550\n",
            "   multiplier      Rows  Processing Time (s)  Memory Usage (MB)\n",
            "0           1    288737             0.020136           0.000000\n",
            "1          10   2887370             0.176304          82.128906\n",
            "2          50  14436850             1.442442         220.382812\n",
            "3         100  28873700             1.841308         440.687500\n",
            "4         150  43310550             2.772681         661.082031\n"
          ]
        },
        {
          "output_type": "display_data",
          "data": {
            "text/plain": [
              "<Figure size 1000x600 with 2 Axes>"
            ],
            "image/png": "[encoded data removed]"
          },
          "metadata": {}
        }
      ]
    },
    {
      "cell_type": "markdown",
      "source": [
        "# 作業内容（データ変換パイプライン）のレポート"
      ],
      "metadata": {
        "id": "TpHkEVdlisVh"
      }
    },
    {
      "cell_type": "markdown",
      "source": [
        "## リソース・処理時間の考察\n",
        "### 1. **スケーラビリティの評価**\n",
        "- 実装したパイプラインは、`pandas`を使用してデータ変換と集計処理を行っています。\n",
        "- `pandas`は一般的に中規模データ（数百万行）には適していますが、1億行規模のデータではメモリの制約が問題となり得ます。\n",
        "- 実測データ（288,737行）を基に以下の結果を得ました：\n",
        "  - **処理時間**: 約27秒（データ変換からSQL保存まで）。\n",
        "  - **メモリ使用量**: 約56MB。\n",
        "- **実験環境**: Google Colab（13GB RAM, 2vCPU環境）で実施。\n",
        "\n",
        "### 2. **リソース消費の考慮**\n",
        "- データ量を10倍（約3,000,000行）に増やした場合、以下の推定結果を得ています：\n",
        "  - **推定処理時間**: 約270秒。\n",
        "  - **推定メモリ使用量**: 約560MB。\n",
        "- この推定は、リソース負荷がデータ量に対して線形に増加することに基づいています。\n",
        "- **Colab環境の制約**:\n",
        "  - データ量が増えた場合、Colabのリソース制限（RAMやセッションタイムアウト）が処理を妨げる可能性があります。\n",
        "\n",
        "### 3. **改善案**\n",
        "**(a) 分割処理**:\n",
        "- **`pandas`の`chunksize`を活用**することで、データを小さなチャンクに分けて逐次処理を行い、メモリ使用量を抑えられます。\n",
        "\n",
        "**(b) 分散処理の導入**:\n",
        "1. **Dask**:\n",
        "   - `pandas`と互換性が高いAPIを提供し、並列処理を活用して効率化できます。\n",
        "   - メモリに収まりきらないデータを分散して管理できます。\n",
        "2. **PySpark**:\n",
        "   - 分散処理フレームワークを活用することで、より大規模なデータに対応可能です。\n",
        "   - 特に、データ量が数千万〜数億行を超える場合に効果的です。\n",
        "\n",
        "**(c) データベースの直接活用**:\n",
        "- ETLではなくELTの採用。例えば`dbt`や`Dataform`、`SQLAlchemy`を使用して、SQLクエリベースでの直接処理を実施することで、`pandas`を介さずに効率的な操作が可能です。`dbt`は複数のSQLクエリをモジュール化して順序立てた処理を実行できるため、データウェアハウス内でのETLプロセスを効率化します。\n",
        "\n",
        "**(d) クラウドサービスの活用**:\n",
        "- **Google Cloud Dataflow**:\n",
        "  - 分散環境でデータの変換とパイプライン処理を実現し、大規模データにも対応可能。\n",
        "- **Vertex AI Workbench**:\n",
        "  - jupyter notebook形式のまま、Cloud Dataproc上で実行できます。これにより大規模データにも対応可能。\n",
        "- **BigQuery**:\n",
        "  - ETLではなくELTの採用。データウェアハウス内で直接クエリと変換処理を実行し、高速かつスケーラブルに分析を行うことができます。\n",
        "- **Snowflake**:\n",
        "  - ETLではなくELTの採用。大規模なデータを複数クラウドで共有する必要がある場合に有効です。\n",
        "\n",
        "### 4. **限界点**\n",
        "- 現状のパイプラインでは、Google Colab環境の制約（13GB RAM, セッションタイムアウト）がデータ量増加時の処理におけるボトルネックとなります。\n",
        "- **拡張の方向性**:\n",
        "  - クラウドサービス（DataflowやBigQueryなど）や分散処理フレームワーク（Dask, PySpark）を導入することで、ペタバイト規模のデータにも対応可能です。\n",
        "\n",
        "---\n",
        "\n",
        "### **補足情報**\n",
        "- 測定に使用したデータ構造:\n",
        "  - データは約288,737行、各行に14カラム（例: 取引日、店舗ID、売上金額など）を含む。\n",
        "\n",
        "以上"
      ],
      "metadata": {
        "id": "VXZERA9DXo5x"
      }
    }
  ]
}